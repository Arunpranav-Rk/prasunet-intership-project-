{
 "cells": [
  {
   "cell_type": "code",
   "execution_count": 1,
   "id": "787f8361",
   "metadata": {
    "_cell_guid": "b1076dfc-b9ad-4769-8c92-a6c4dae69d19",
    "_uuid": "8f2839f25d086af736a60e9eeb907d3b93b6e0e5",
    "execution": {
     "iopub.execute_input": "2024-06-10T14:30:10.585346Z",
     "iopub.status.busy": "2024-06-10T14:30:10.585052Z",
     "iopub.status.idle": "2024-06-10T14:30:11.306827Z",
     "shell.execute_reply": "2024-06-10T14:30:11.305651Z"
    },
    "papermill": {
     "duration": 0.741482,
     "end_time": "2024-06-10T14:30:11.309194",
     "exception": false,
     "start_time": "2024-06-10T14:30:10.567712",
     "status": "completed"
    },
    "tags": []
   },
   "outputs": [
    {
     "name": "stdout",
     "output_type": "stream",
     "text": [
      "/kaggle/input/twitter-entity-sentiment-analysis/twitter_validation.csv\n",
      "/kaggle/input/twitter-entity-sentiment-analysis/twitter_training.csv\n"
     ]
    }
   ],
   "source": [
    "# This Python 3 environment comes with many helpful analytics libraries installed\n",
    "# It is defined by the kaggle/python Docker image: https://github.com/kaggle/docker-python\n",
    "# For example, here's several helpful packages to load\n",
    "\n",
    "import numpy as np # linear algebra\n",
    "import pandas as pd # data processing, CSV file I/O (e.g. pd.read_csv)\n",
    "\n",
    "# Input data files are available in the read-only \"../input/\" directory\n",
    "# For example, running this (by clicking run or pressing Shift+Enter) will list all files under the input directory\n",
    "\n",
    "import os\n",
    "for dirname, _, filenames in os.walk('/kaggle/input'):\n",
    "    for filename in filenames:\n",
    "        print(os.path.join(dirname, filename))\n",
    "\n",
    "# You can write up to 20GB to the current directory (/kaggle/working/) that gets preserved as output when you create a version using \"Save & Run All\" \n",
    "# You can also write temporary files to /kaggle/temp/, but they won't be saved outside of the current session"
   ]
  },
  {
   "cell_type": "code",
   "execution_count": 2,
   "id": "e3e4ae2f",
   "metadata": {
    "execution": {
     "iopub.execute_input": "2024-06-10T14:30:11.344854Z",
     "iopub.status.busy": "2024-06-10T14:30:11.344417Z",
     "iopub.status.idle": "2024-06-10T14:30:22.325907Z",
     "shell.execute_reply": "2024-06-10T14:30:22.325149Z"
    },
    "papermill": {
     "duration": 11.001893,
     "end_time": "2024-06-10T14:30:22.328410",
     "exception": false,
     "start_time": "2024-06-10T14:30:11.326517",
     "status": "completed"
    },
    "tags": []
   },
   "outputs": [
    {
     "name": "stderr",
     "output_type": "stream",
     "text": [
      "2024-06-10 14:30:12.866512: E external/local_xla/xla/stream_executor/cuda/cuda_dnn.cc:9261] Unable to register cuDNN factory: Attempting to register factory for plugin cuDNN when one has already been registered\n",
      "2024-06-10 14:30:12.866610: E external/local_xla/xla/stream_executor/cuda/cuda_fft.cc:607] Unable to register cuFFT factory: Attempting to register factory for plugin cuFFT when one has already been registered\n",
      "2024-06-10 14:30:12.974554: E external/local_xla/xla/stream_executor/cuda/cuda_blas.cc:1515] Unable to register cuBLAS factory: Attempting to register factory for plugin cuBLAS when one has already been registered\n"
     ]
    }
   ],
   "source": [
    "import tensorflow as tf"
   ]
  },
  {
   "cell_type": "code",
   "execution_count": 3,
   "id": "32ca488a",
   "metadata": {
    "execution": {
     "iopub.execute_input": "2024-06-10T14:30:22.367219Z",
     "iopub.status.busy": "2024-06-10T14:30:22.366621Z",
     "iopub.status.idle": "2024-06-10T14:30:22.672367Z",
     "shell.execute_reply": "2024-06-10T14:30:22.671354Z"
    },
    "papermill": {
     "duration": 0.326586,
     "end_time": "2024-06-10T14:30:22.674337",
     "exception": false,
     "start_time": "2024-06-10T14:30:22.347751",
     "status": "completed"
    },
    "tags": []
   },
   "outputs": [
    {
     "name": "stdout",
     "output_type": "stream",
     "text": [
      "Available GPUs: [PhysicalDevice(name='/physical_device:GPU:0', device_type='GPU')]\n",
      "1 Physical GPUs, 1 Logical GPUs\n"
     ]
    }
   ],
   "source": [
    "gpus = tf.config.list_physical_devices(\"GPU\")\n",
    "print(f\"Available GPUs: {gpus}\")\n",
    "\n",
    "# Make sure TensorFlow uses all GPUs\n",
    "if gpus:\n",
    "    try:\n",
    "        for gpu in gpus:\n",
    "            tf.config.experimental.set_memory_growth(gpu, True)\n",
    "        tf.config.set_visible_devices(gpus, \"GPU\")\n",
    "        logical_gpus = tf.config.list_logical_devices(\"GPU\")\n",
    "        print(f\"{len(gpus)} Physical GPUs, {len(logical_gpus)} Logical GPUs\")\n",
    "    except RuntimeError as e:\n",
    "        print(e)"
   ]
  },
  {
   "cell_type": "code",
   "execution_count": 4,
   "id": "aef64a1c",
   "metadata": {
    "execution": {
     "iopub.execute_input": "2024-06-10T14:30:22.707394Z",
     "iopub.status.busy": "2024-06-10T14:30:22.707096Z",
     "iopub.status.idle": "2024-06-10T14:30:23.816859Z",
     "shell.execute_reply": "2024-06-10T14:30:23.816086Z"
    },
    "papermill": {
     "duration": 1.128931,
     "end_time": "2024-06-10T14:30:23.819189",
     "exception": false,
     "start_time": "2024-06-10T14:30:22.690258",
     "status": "completed"
    },
    "tags": []
   },
   "outputs": [],
   "source": [
    "import matplotlib.pyplot as plt\n",
    "import seaborn as sns\n",
    "from sklearn.preprocessing import LabelEncoder"
   ]
  },
  {
   "cell_type": "code",
   "execution_count": 5,
   "id": "bd4278c5",
   "metadata": {
    "execution": {
     "iopub.execute_input": "2024-06-10T14:30:23.852697Z",
     "iopub.status.busy": "2024-06-10T14:30:23.852387Z",
     "iopub.status.idle": "2024-06-10T14:30:24.576141Z",
     "shell.execute_reply": "2024-06-10T14:30:24.575002Z"
    },
    "papermill": {
     "duration": 0.742725,
     "end_time": "2024-06-10T14:30:24.578047",
     "exception": false,
     "start_time": "2024-06-10T14:30:23.835322",
     "status": "completed"
    },
    "tags": []
   },
   "outputs": [
    {
     "name": "stdout",
     "output_type": "stream",
     "text": [
      "[nltk_data] Downloading package stopwords to /usr/share/nltk_data...\n",
      "[nltk_data]   Package stopwords is already up-to-date!\n",
      "[nltk_data] Downloading package punkt to /usr/share/nltk_data...\n",
      "[nltk_data]   Package punkt is already up-to-date!\n",
      "[nltk_data] Downloading package wordnet to /usr/share/nltk_data...\n",
      "[nltk_data]   Package wordnet is already up-to-date!\n"
     ]
    },
    {
     "data": {
      "text/plain": [
       "True"
      ]
     },
     "execution_count": 5,
     "metadata": {},
     "output_type": "execute_result"
    }
   ],
   "source": [
    "import re\n",
    "import nltk\n",
    "from nltk.corpus import stopwords\n",
    "nltk.download('stopwords')\n",
    "nltk.download('punkt')\n",
    "nltk.download('wordnet')"
   ]
  },
  {
   "cell_type": "code",
   "execution_count": 6,
   "id": "2fe55297",
   "metadata": {
    "execution": {
     "iopub.execute_input": "2024-06-10T14:30:24.612703Z",
     "iopub.status.busy": "2024-06-10T14:30:24.611865Z",
     "iopub.status.idle": "2024-06-10T14:30:25.007153Z",
     "shell.execute_reply": "2024-06-10T14:30:25.006191Z"
    },
    "papermill": {
     "duration": 0.415143,
     "end_time": "2024-06-10T14:30:25.009490",
     "exception": false,
     "start_time": "2024-06-10T14:30:24.594347",
     "status": "completed"
    },
    "tags": []
   },
   "outputs": [],
   "source": [
    "df = pd.read_csv('/kaggle/input/twitter-entity-sentiment-analysis/twitter_training.csv')\n",
    "validation_df = pd.read_csv('/kaggle/input/twitter-entity-sentiment-analysis/twitter_validation.csv')"
   ]
  },
  {
   "cell_type": "code",
   "execution_count": 7,
   "id": "d3389963",
   "metadata": {
    "execution": {
     "iopub.execute_input": "2024-06-10T14:30:25.046657Z",
     "iopub.status.busy": "2024-06-10T14:30:25.045907Z",
     "iopub.status.idle": "2024-06-10T14:30:25.069418Z",
     "shell.execute_reply": "2024-06-10T14:30:25.068161Z"
    },
    "papermill": {
     "duration": 0.043115,
     "end_time": "2024-06-10T14:30:25.072154",
     "exception": false,
     "start_time": "2024-06-10T14:30:25.029039",
     "status": "completed"
    },
    "tags": []
   },
   "outputs": [
    {
     "data": {
      "text/html": [
       "<div>\n",
       "<style scoped>\n",
       "    .dataframe tbody tr th:only-of-type {\n",
       "        vertical-align: middle;\n",
       "    }\n",
       "\n",
       "    .dataframe tbody tr th {\n",
       "        vertical-align: top;\n",
       "    }\n",
       "\n",
       "    .dataframe thead th {\n",
       "        text-align: right;\n",
       "    }\n",
       "</style>\n",
       "<table border=\"1\" class=\"dataframe\">\n",
       "  <thead>\n",
       "    <tr style=\"text-align: right;\">\n",
       "      <th></th>\n",
       "      <th>2401</th>\n",
       "      <th>Borderlands</th>\n",
       "      <th>Positive</th>\n",
       "      <th>im getting on borderlands and i will murder you all ,</th>\n",
       "    </tr>\n",
       "  </thead>\n",
       "  <tbody>\n",
       "    <tr>\n",
       "      <th>0</th>\n",
       "      <td>2401</td>\n",
       "      <td>Borderlands</td>\n",
       "      <td>Positive</td>\n",
       "      <td>I am coming to the borders and I will kill you...</td>\n",
       "    </tr>\n",
       "    <tr>\n",
       "      <th>1</th>\n",
       "      <td>2401</td>\n",
       "      <td>Borderlands</td>\n",
       "      <td>Positive</td>\n",
       "      <td>im getting on borderlands and i will kill you ...</td>\n",
       "    </tr>\n",
       "    <tr>\n",
       "      <th>2</th>\n",
       "      <td>2401</td>\n",
       "      <td>Borderlands</td>\n",
       "      <td>Positive</td>\n",
       "      <td>im coming on borderlands and i will murder you...</td>\n",
       "    </tr>\n",
       "    <tr>\n",
       "      <th>3</th>\n",
       "      <td>2401</td>\n",
       "      <td>Borderlands</td>\n",
       "      <td>Positive</td>\n",
       "      <td>im getting on borderlands 2 and i will murder ...</td>\n",
       "    </tr>\n",
       "    <tr>\n",
       "      <th>4</th>\n",
       "      <td>2401</td>\n",
       "      <td>Borderlands</td>\n",
       "      <td>Positive</td>\n",
       "      <td>im getting into borderlands and i can murder y...</td>\n",
       "    </tr>\n",
       "  </tbody>\n",
       "</table>\n",
       "</div>"
      ],
      "text/plain": [
       "   2401  Borderlands  Positive  \\\n",
       "0  2401  Borderlands  Positive   \n",
       "1  2401  Borderlands  Positive   \n",
       "2  2401  Borderlands  Positive   \n",
       "3  2401  Borderlands  Positive   \n",
       "4  2401  Borderlands  Positive   \n",
       "\n",
       "  im getting on borderlands and i will murder you all ,  \n",
       "0  I am coming to the borders and I will kill you...     \n",
       "1  im getting on borderlands and i will kill you ...     \n",
       "2  im coming on borderlands and i will murder you...     \n",
       "3  im getting on borderlands 2 and i will murder ...     \n",
       "4  im getting into borderlands and i can murder y...     "
      ]
     },
     "execution_count": 7,
     "metadata": {},
     "output_type": "execute_result"
    }
   ],
   "source": [
    "df.head()"
   ]
  },
  {
   "cell_type": "code",
   "execution_count": 8,
   "id": "6b157a87",
   "metadata": {
    "execution": {
     "iopub.execute_input": "2024-06-10T14:30:25.130754Z",
     "iopub.status.busy": "2024-06-10T14:30:25.130416Z",
     "iopub.status.idle": "2024-06-10T14:30:25.135912Z",
     "shell.execute_reply": "2024-06-10T14:30:25.134960Z"
    },
    "papermill": {
     "duration": 0.037446,
     "end_time": "2024-06-10T14:30:25.138535",
     "exception": false,
     "start_time": "2024-06-10T14:30:25.101089",
     "status": "completed"
    },
    "tags": []
   },
   "outputs": [],
   "source": [
    "df.columns = ['number','borderlands','sentiment','text']\n",
    "validation_df.columns = ['number','borderlands','sentiment','text']"
   ]
  },
  {
   "cell_type": "code",
   "execution_count": 9,
   "id": "b5f55657",
   "metadata": {
    "execution": {
     "iopub.execute_input": "2024-06-10T14:30:25.189358Z",
     "iopub.status.busy": "2024-06-10T14:30:25.189033Z",
     "iopub.status.idle": "2024-06-10T14:30:25.206960Z",
     "shell.execute_reply": "2024-06-10T14:30:25.206024Z"
    },
    "papermill": {
     "duration": 0.047267,
     "end_time": "2024-06-10T14:30:25.210897",
     "exception": false,
     "start_time": "2024-06-10T14:30:25.163630",
     "status": "completed"
    },
    "tags": []
   },
   "outputs": [
    {
     "name": "stdout",
     "output_type": "stream",
     "text": [
      "++++++++++++++++++++++++++++++++++++++++++++++++++++++++++++++++++++++++++++++++++++++++++++++++++++\n",
      "Top 5 values in dataset\n"
     ]
    },
    {
     "data": {
      "text/html": [
       "<div>\n",
       "<style scoped>\n",
       "    .dataframe tbody tr th:only-of-type {\n",
       "        vertical-align: middle;\n",
       "    }\n",
       "\n",
       "    .dataframe tbody tr th {\n",
       "        vertical-align: top;\n",
       "    }\n",
       "\n",
       "    .dataframe thead th {\n",
       "        text-align: right;\n",
       "    }\n",
       "</style>\n",
       "<table border=\"1\" class=\"dataframe\">\n",
       "  <thead>\n",
       "    <tr style=\"text-align: right;\">\n",
       "      <th></th>\n",
       "      <th>number</th>\n",
       "      <th>borderlands</th>\n",
       "      <th>sentiment</th>\n",
       "      <th>text</th>\n",
       "    </tr>\n",
       "  </thead>\n",
       "  <tbody>\n",
       "    <tr>\n",
       "      <th>0</th>\n",
       "      <td>2401</td>\n",
       "      <td>Borderlands</td>\n",
       "      <td>Positive</td>\n",
       "      <td>I am coming to the borders and I will kill you...</td>\n",
       "    </tr>\n",
       "    <tr>\n",
       "      <th>1</th>\n",
       "      <td>2401</td>\n",
       "      <td>Borderlands</td>\n",
       "      <td>Positive</td>\n",
       "      <td>im getting on borderlands and i will kill you ...</td>\n",
       "    </tr>\n",
       "    <tr>\n",
       "      <th>2</th>\n",
       "      <td>2401</td>\n",
       "      <td>Borderlands</td>\n",
       "      <td>Positive</td>\n",
       "      <td>im coming on borderlands and i will murder you...</td>\n",
       "    </tr>\n",
       "    <tr>\n",
       "      <th>3</th>\n",
       "      <td>2401</td>\n",
       "      <td>Borderlands</td>\n",
       "      <td>Positive</td>\n",
       "      <td>im getting on borderlands 2 and i will murder ...</td>\n",
       "    </tr>\n",
       "    <tr>\n",
       "      <th>4</th>\n",
       "      <td>2401</td>\n",
       "      <td>Borderlands</td>\n",
       "      <td>Positive</td>\n",
       "      <td>im getting into borderlands and i can murder y...</td>\n",
       "    </tr>\n",
       "  </tbody>\n",
       "</table>\n",
       "</div>"
      ],
      "text/plain": [
       "   number  borderlands sentiment  \\\n",
       "0    2401  Borderlands  Positive   \n",
       "1    2401  Borderlands  Positive   \n",
       "2    2401  Borderlands  Positive   \n",
       "3    2401  Borderlands  Positive   \n",
       "4    2401  Borderlands  Positive   \n",
       "\n",
       "                                                text  \n",
       "0  I am coming to the borders and I will kill you...  \n",
       "1  im getting on borderlands and i will kill you ...  \n",
       "2  im coming on borderlands and i will murder you...  \n",
       "3  im getting on borderlands 2 and i will murder ...  \n",
       "4  im getting into borderlands and i can murder y...  "
      ]
     },
     "execution_count": 9,
     "metadata": {},
     "output_type": "execute_result"
    }
   ],
   "source": [
    "print('+'*100)\n",
    "print(\"Top 5 values in dataset\")\n",
    "df.head()"
   ]
  },
  {
   "cell_type": "code",
   "execution_count": 10,
   "id": "fb1ff1a1",
   "metadata": {
    "execution": {
     "iopub.execute_input": "2024-06-10T14:30:25.246078Z",
     "iopub.status.busy": "2024-06-10T14:30:25.245347Z",
     "iopub.status.idle": "2024-06-10T14:30:25.255966Z",
     "shell.execute_reply": "2024-06-10T14:30:25.254899Z"
    },
    "papermill": {
     "duration": 0.030084,
     "end_time": "2024-06-10T14:30:25.258181",
     "exception": false,
     "start_time": "2024-06-10T14:30:25.228097",
     "status": "completed"
    },
    "tags": []
   },
   "outputs": [
    {
     "name": "stdout",
     "output_type": "stream",
     "text": [
      "====================================================================================================\n",
      "Top 5 values in validation dataset\n"
     ]
    },
    {
     "data": {
      "text/html": [
       "<div>\n",
       "<style scoped>\n",
       "    .dataframe tbody tr th:only-of-type {\n",
       "        vertical-align: middle;\n",
       "    }\n",
       "\n",
       "    .dataframe tbody tr th {\n",
       "        vertical-align: top;\n",
       "    }\n",
       "\n",
       "    .dataframe thead th {\n",
       "        text-align: right;\n",
       "    }\n",
       "</style>\n",
       "<table border=\"1\" class=\"dataframe\">\n",
       "  <thead>\n",
       "    <tr style=\"text-align: right;\">\n",
       "      <th></th>\n",
       "      <th>number</th>\n",
       "      <th>borderlands</th>\n",
       "      <th>sentiment</th>\n",
       "      <th>text</th>\n",
       "    </tr>\n",
       "  </thead>\n",
       "  <tbody>\n",
       "    <tr>\n",
       "      <th>0</th>\n",
       "      <td>352</td>\n",
       "      <td>Amazon</td>\n",
       "      <td>Neutral</td>\n",
       "      <td>BBC News - Amazon boss Jeff Bezos rejects clai...</td>\n",
       "    </tr>\n",
       "    <tr>\n",
       "      <th>1</th>\n",
       "      <td>8312</td>\n",
       "      <td>Microsoft</td>\n",
       "      <td>Negative</td>\n",
       "      <td>@Microsoft Why do I pay for WORD when it funct...</td>\n",
       "    </tr>\n",
       "    <tr>\n",
       "      <th>2</th>\n",
       "      <td>4371</td>\n",
       "      <td>CS-GO</td>\n",
       "      <td>Negative</td>\n",
       "      <td>CSGO matchmaking is so full of closet hacking,...</td>\n",
       "    </tr>\n",
       "    <tr>\n",
       "      <th>3</th>\n",
       "      <td>4433</td>\n",
       "      <td>Google</td>\n",
       "      <td>Neutral</td>\n",
       "      <td>Now the President is slapping Americans in the...</td>\n",
       "    </tr>\n",
       "    <tr>\n",
       "      <th>4</th>\n",
       "      <td>6273</td>\n",
       "      <td>FIFA</td>\n",
       "      <td>Negative</td>\n",
       "      <td>Hi @EAHelp I’ve had Madeleine McCann in my cel...</td>\n",
       "    </tr>\n",
       "  </tbody>\n",
       "</table>\n",
       "</div>"
      ],
      "text/plain": [
       "   number borderlands sentiment  \\\n",
       "0     352      Amazon   Neutral   \n",
       "1    8312   Microsoft  Negative   \n",
       "2    4371       CS-GO  Negative   \n",
       "3    4433      Google   Neutral   \n",
       "4    6273        FIFA  Negative   \n",
       "\n",
       "                                                text  \n",
       "0  BBC News - Amazon boss Jeff Bezos rejects clai...  \n",
       "1  @Microsoft Why do I pay for WORD when it funct...  \n",
       "2  CSGO matchmaking is so full of closet hacking,...  \n",
       "3  Now the President is slapping Americans in the...  \n",
       "4  Hi @EAHelp I’ve had Madeleine McCann in my cel...  "
      ]
     },
     "execution_count": 10,
     "metadata": {},
     "output_type": "execute_result"
    }
   ],
   "source": [
    "print('='*100)\n",
    "print('Top 5 values in validation dataset')\n",
    "validation_df.head()"
   ]
  },
  {
   "cell_type": "code",
   "execution_count": 11,
   "id": "98e77b5d",
   "metadata": {
    "execution": {
     "iopub.execute_input": "2024-06-10T14:30:25.293049Z",
     "iopub.status.busy": "2024-06-10T14:30:25.292743Z",
     "iopub.status.idle": "2024-06-10T14:30:25.323098Z",
     "shell.execute_reply": "2024-06-10T14:30:25.322247Z"
    },
    "papermill": {
     "duration": 0.049917,
     "end_time": "2024-06-10T14:30:25.324908",
     "exception": false,
     "start_time": "2024-06-10T14:30:25.274991",
     "status": "completed"
    },
    "tags": []
   },
   "outputs": [
    {
     "data": {
      "text/plain": [
       "number           0\n",
       "borderlands      0\n",
       "sentiment        0\n",
       "text           686\n",
       "dtype: int64"
      ]
     },
     "execution_count": 11,
     "metadata": {},
     "output_type": "execute_result"
    }
   ],
   "source": [
    "df.isna().sum()"
   ]
  },
  {
   "cell_type": "markdown",
   "id": "6c44fdc5",
   "metadata": {
    "papermill": {
     "duration": 0.016664,
     "end_time": "2024-06-10T14:30:25.358434",
     "exception": false,
     "start_time": "2024-06-10T14:30:25.341770",
     "status": "completed"
    },
    "tags": []
   },
   "source": [
    "## Drop the null values Because it was the text document"
   ]
  },
  {
   "cell_type": "code",
   "execution_count": 12,
   "id": "98af1db0",
   "metadata": {
    "execution": {
     "iopub.execute_input": "2024-06-10T14:30:25.394097Z",
     "iopub.status.busy": "2024-06-10T14:30:25.393808Z",
     "iopub.status.idle": "2024-06-10T14:30:25.427157Z",
     "shell.execute_reply": "2024-06-10T14:30:25.426475Z"
    },
    "papermill": {
     "duration": 0.053531,
     "end_time": "2024-06-10T14:30:25.429075",
     "exception": false,
     "start_time": "2024-06-10T14:30:25.375544",
     "status": "completed"
    },
    "tags": []
   },
   "outputs": [],
   "source": [
    "df = df.dropna()"
   ]
  },
  {
   "cell_type": "code",
   "execution_count": 13,
   "id": "f5bdf4e6",
   "metadata": {
    "execution": {
     "iopub.execute_input": "2024-06-10T14:30:25.465443Z",
     "iopub.status.busy": "2024-06-10T14:30:25.465078Z",
     "iopub.status.idle": "2024-06-10T14:30:25.493371Z",
     "shell.execute_reply": "2024-06-10T14:30:25.492452Z"
    },
    "papermill": {
     "duration": 0.048948,
     "end_time": "2024-06-10T14:30:25.495430",
     "exception": false,
     "start_time": "2024-06-10T14:30:25.446482",
     "status": "completed"
    },
    "tags": []
   },
   "outputs": [
    {
     "data": {
      "text/plain": [
       "number         0\n",
       "borderlands    0\n",
       "sentiment      0\n",
       "text           0\n",
       "dtype: int64"
      ]
     },
     "execution_count": 13,
     "metadata": {},
     "output_type": "execute_result"
    }
   ],
   "source": [
    "df.isna().sum()"
   ]
  },
  {
   "cell_type": "markdown",
   "id": "4c698fc0",
   "metadata": {
    "papermill": {
     "duration": 0.019717,
     "end_time": "2024-06-10T14:30:25.535016",
     "exception": false,
     "start_time": "2024-06-10T14:30:25.515299",
     "status": "completed"
    },
    "tags": []
   },
   "source": [
    "## We know that the text are needed to analyse the sentiment of thedataset"
   ]
  },
  {
   "cell_type": "code",
   "execution_count": 14,
   "id": "cacbb352",
   "metadata": {
    "execution": {
     "iopub.execute_input": "2024-06-10T14:30:25.575689Z",
     "iopub.status.busy": "2024-06-10T14:30:25.574930Z",
     "iopub.status.idle": "2024-06-10T14:30:25.584813Z",
     "shell.execute_reply": "2024-06-10T14:30:25.584019Z"
    },
    "papermill": {
     "duration": 0.032607,
     "end_time": "2024-06-10T14:30:25.587260",
     "exception": false,
     "start_time": "2024-06-10T14:30:25.554653",
     "status": "completed"
    },
    "tags": []
   },
   "outputs": [],
   "source": [
    "df = df.drop(['number','borderlands'],axis=1)\n",
    "validation_df = validation_df.drop(['number','borderlands'],axis=1)"
   ]
  },
  {
   "cell_type": "code",
   "execution_count": 15,
   "id": "c5f0ea86",
   "metadata": {
    "execution": {
     "iopub.execute_input": "2024-06-10T14:30:25.628359Z",
     "iopub.status.busy": "2024-06-10T14:30:25.627632Z",
     "iopub.status.idle": "2024-06-10T14:30:25.637281Z",
     "shell.execute_reply": "2024-06-10T14:30:25.636133Z"
    },
    "papermill": {
     "duration": 0.03126,
     "end_time": "2024-06-10T14:30:25.639328",
     "exception": false,
     "start_time": "2024-06-10T14:30:25.608068",
     "status": "completed"
    },
    "tags": []
   },
   "outputs": [
    {
     "data": {
      "text/html": [
       "<div>\n",
       "<style scoped>\n",
       "    .dataframe tbody tr th:only-of-type {\n",
       "        vertical-align: middle;\n",
       "    }\n",
       "\n",
       "    .dataframe tbody tr th {\n",
       "        vertical-align: top;\n",
       "    }\n",
       "\n",
       "    .dataframe thead th {\n",
       "        text-align: right;\n",
       "    }\n",
       "</style>\n",
       "<table border=\"1\" class=\"dataframe\">\n",
       "  <thead>\n",
       "    <tr style=\"text-align: right;\">\n",
       "      <th></th>\n",
       "      <th>sentiment</th>\n",
       "      <th>text</th>\n",
       "    </tr>\n",
       "  </thead>\n",
       "  <tbody>\n",
       "    <tr>\n",
       "      <th>0</th>\n",
       "      <td>Positive</td>\n",
       "      <td>I am coming to the borders and I will kill you...</td>\n",
       "    </tr>\n",
       "    <tr>\n",
       "      <th>1</th>\n",
       "      <td>Positive</td>\n",
       "      <td>im getting on borderlands and i will kill you ...</td>\n",
       "    </tr>\n",
       "    <tr>\n",
       "      <th>2</th>\n",
       "      <td>Positive</td>\n",
       "      <td>im coming on borderlands and i will murder you...</td>\n",
       "    </tr>\n",
       "    <tr>\n",
       "      <th>3</th>\n",
       "      <td>Positive</td>\n",
       "      <td>im getting on borderlands 2 and i will murder ...</td>\n",
       "    </tr>\n",
       "    <tr>\n",
       "      <th>4</th>\n",
       "      <td>Positive</td>\n",
       "      <td>im getting into borderlands and i can murder y...</td>\n",
       "    </tr>\n",
       "  </tbody>\n",
       "</table>\n",
       "</div>"
      ],
      "text/plain": [
       "  sentiment                                               text\n",
       "0  Positive  I am coming to the borders and I will kill you...\n",
       "1  Positive  im getting on borderlands and i will kill you ...\n",
       "2  Positive  im coming on borderlands and i will murder you...\n",
       "3  Positive  im getting on borderlands 2 and i will murder ...\n",
       "4  Positive  im getting into borderlands and i can murder y..."
      ]
     },
     "execution_count": 15,
     "metadata": {},
     "output_type": "execute_result"
    }
   ],
   "source": [
    "df.head()"
   ]
  },
  {
   "cell_type": "code",
   "execution_count": 16,
   "id": "501e2cd5",
   "metadata": {
    "execution": {
     "iopub.execute_input": "2024-06-10T14:30:25.677378Z",
     "iopub.status.busy": "2024-06-10T14:30:25.676797Z",
     "iopub.status.idle": "2024-06-10T14:30:25.685782Z",
     "shell.execute_reply": "2024-06-10T14:30:25.684819Z"
    },
    "papermill": {
     "duration": 0.030081,
     "end_time": "2024-06-10T14:30:25.687828",
     "exception": false,
     "start_time": "2024-06-10T14:30:25.657747",
     "status": "completed"
    },
    "tags": []
   },
   "outputs": [
    {
     "data": {
      "text/html": [
       "<div>\n",
       "<style scoped>\n",
       "    .dataframe tbody tr th:only-of-type {\n",
       "        vertical-align: middle;\n",
       "    }\n",
       "\n",
       "    .dataframe tbody tr th {\n",
       "        vertical-align: top;\n",
       "    }\n",
       "\n",
       "    .dataframe thead th {\n",
       "        text-align: right;\n",
       "    }\n",
       "</style>\n",
       "<table border=\"1\" class=\"dataframe\">\n",
       "  <thead>\n",
       "    <tr style=\"text-align: right;\">\n",
       "      <th></th>\n",
       "      <th>sentiment</th>\n",
       "      <th>text</th>\n",
       "    </tr>\n",
       "  </thead>\n",
       "  <tbody>\n",
       "    <tr>\n",
       "      <th>0</th>\n",
       "      <td>Neutral</td>\n",
       "      <td>BBC News - Amazon boss Jeff Bezos rejects clai...</td>\n",
       "    </tr>\n",
       "    <tr>\n",
       "      <th>1</th>\n",
       "      <td>Negative</td>\n",
       "      <td>@Microsoft Why do I pay for WORD when it funct...</td>\n",
       "    </tr>\n",
       "    <tr>\n",
       "      <th>2</th>\n",
       "      <td>Negative</td>\n",
       "      <td>CSGO matchmaking is so full of closet hacking,...</td>\n",
       "    </tr>\n",
       "    <tr>\n",
       "      <th>3</th>\n",
       "      <td>Neutral</td>\n",
       "      <td>Now the President is slapping Americans in the...</td>\n",
       "    </tr>\n",
       "    <tr>\n",
       "      <th>4</th>\n",
       "      <td>Negative</td>\n",
       "      <td>Hi @EAHelp I’ve had Madeleine McCann in my cel...</td>\n",
       "    </tr>\n",
       "  </tbody>\n",
       "</table>\n",
       "</div>"
      ],
      "text/plain": [
       "  sentiment                                               text\n",
       "0   Neutral  BBC News - Amazon boss Jeff Bezos rejects clai...\n",
       "1  Negative  @Microsoft Why do I pay for WORD when it funct...\n",
       "2  Negative  CSGO matchmaking is so full of closet hacking,...\n",
       "3   Neutral  Now the President is slapping Americans in the...\n",
       "4  Negative  Hi @EAHelp I’ve had Madeleine McCann in my cel..."
      ]
     },
     "execution_count": 16,
     "metadata": {},
     "output_type": "execute_result"
    }
   ],
   "source": [
    "validation_df.head()"
   ]
  },
  {
   "cell_type": "code",
   "execution_count": 17,
   "id": "b818f69c",
   "metadata": {
    "execution": {
     "iopub.execute_input": "2024-06-10T14:30:25.726671Z",
     "iopub.status.busy": "2024-06-10T14:30:25.726377Z",
     "iopub.status.idle": "2024-06-10T14:30:26.017883Z",
     "shell.execute_reply": "2024-06-10T14:30:26.016965Z"
    },
    "papermill": {
     "duration": 0.312506,
     "end_time": "2024-06-10T14:30:26.019946",
     "exception": false,
     "start_time": "2024-06-10T14:30:25.707440",
     "status": "completed"
    },
    "tags": []
   },
   "outputs": [
    {
     "data": {
      "image/png": "[encoded data removed]",
      "text/plain": [
       "<Figure size 640x480 with 1 Axes>"
      ]
     },
     "metadata": {},
     "output_type": "display_data"
    }
   ],
   "source": [
    "value_counts_target = df['sentiment'].value_counts()\n",
    "value_counts_target.plot(kind='bar')\n",
    "plt.xlabel('Sentiment')\n",
    "plt.ylabel('No of occurences ')\n",
    "plt.title('Target Distribution .')\n",
    "plt.show()"
   ]
  },
  {
   "cell_type": "code",
   "execution_count": 18,
   "id": "40ff7507",
   "metadata": {
    "execution": {
     "iopub.execute_input": "2024-06-10T14:30:26.057780Z",
     "iopub.status.busy": "2024-06-10T14:30:26.057426Z",
     "iopub.status.idle": "2024-06-10T14:30:26.203658Z",
     "shell.execute_reply": "2024-06-10T14:30:26.202328Z"
    },
    "papermill": {
     "duration": 0.170645,
     "end_time": "2024-06-10T14:30:26.208835",
     "exception": false,
     "start_time": "2024-06-10T14:30:26.038190",
     "status": "completed"
    },
    "tags": []
   },
   "outputs": [
    {
     "data": {
      "image/png": "[encoded data removed]",
      "text/plain": [
       "<Figure size 640x480 with 1 Axes>"
      ]
     },
     "metadata": {},
     "output_type": "display_data"
    }
   ],
   "source": [
    "plt.pie(value_counts_target,labels=value_counts_target.index,autopct=\"%1.2f%%\",colors=['blue','yellow','red','orange'])\n",
    "plt.show()"
   ]
  },
  {
   "cell_type": "markdown",
   "id": "dfe77d88",
   "metadata": {
    "papermill": {
     "duration": 0.074767,
     "end_time": "2024-06-10T14:30:26.329299",
     "exception": false,
     "start_time": "2024-06-10T14:30:26.254532",
     "status": "completed"
    },
    "tags": []
   },
   "source": [
    "## Define Stemming for finding the root word of that word"
   ]
  },
  {
   "cell_type": "code",
   "execution_count": 19,
   "id": "47277f50",
   "metadata": {
    "execution": {
     "iopub.execute_input": "2024-06-10T14:30:26.368100Z",
     "iopub.status.busy": "2024-06-10T14:30:26.367385Z",
     "iopub.status.idle": "2024-06-10T14:30:26.371943Z",
     "shell.execute_reply": "2024-06-10T14:30:26.371031Z"
    },
    "papermill": {
     "duration": 0.026294,
     "end_time": "2024-06-10T14:30:26.374008",
     "exception": false,
     "start_time": "2024-06-10T14:30:26.347714",
     "status": "completed"
    },
    "tags": []
   },
   "outputs": [],
   "source": [
    "from nltk.stem import PorterStemmer\n",
    "stemmer = PorterStemmer()"
   ]
  },
  {
   "cell_type": "markdown",
   "id": "ba5ad4c2",
   "metadata": {
    "papermill": {
     "duration": 0.018158,
     "end_time": "2024-06-10T14:30:26.410948",
     "exception": false,
     "start_time": "2024-06-10T14:30:26.392790",
     "status": "completed"
    },
    "tags": []
   },
   "source": [
    "## Find unique words by removing stop word, remove special characters and numbers where they don't retain any information about the sentiment where the sentiment depends on the unique words "
   ]
  },
  {
   "cell_type": "markdown",
   "id": "f8c33113",
   "metadata": {
    "papermill": {
     "duration": 0.019179,
     "end_time": "2024-06-10T14:30:26.448644",
     "exception": false,
     "start_time": "2024-06-10T14:30:26.429465",
     "status": "completed"
    },
    "tags": []
   },
   "source": [
    "\n",
    "# You look bad -> negative\n",
    "# You look fanstastic -> positive\n",
    "# I think this food was not so bad -> neutral"
   ]
  },
  {
   "cell_type": "code",
   "execution_count": 20,
   "id": "58695966",
   "metadata": {
    "execution": {
     "iopub.execute_input": "2024-06-10T14:30:26.488787Z",
     "iopub.status.busy": "2024-06-10T14:30:26.488168Z",
     "iopub.status.idle": "2024-06-10T14:30:26.494320Z",
     "shell.execute_reply": "2024-06-10T14:30:26.493456Z"
    },
    "papermill": {
     "duration": 0.02819,
     "end_time": "2024-06-10T14:30:26.496343",
     "exception": false,
     "start_time": "2024-06-10T14:30:26.468153",
     "status": "completed"
    },
    "tags": []
   },
   "outputs": [],
   "source": [
    "## iterate over the text remove stopwords, lemmatize the word\n",
    "def preprocess_text(data):\n",
    "    lis = list()\n",
    "    for i in data:\n",
    "        ss = re.sub('[^a-zA-Z]',' ',i)## Remove all values except the aphabets\n",
    "        ss = ss.lower()\n",
    "        ss = ss.split()\n",
    "        ss = [f for f in ss if f not in set(stopwords.words('english'))]\n",
    "        ss = [stemmer.stem(l) for l in ss]\n",
    "        ss = ' '.join(ss)\n",
    "        lis.append(ss)\n",
    "    return lis"
   ]
  },
  {
   "cell_type": "markdown",
   "id": "0e7b7997",
   "metadata": {
    "papermill": {
     "duration": 0.018097,
     "end_time": "2024-06-10T14:30:26.532537",
     "exception": false,
     "start_time": "2024-06-10T14:30:26.514440",
     "status": "completed"
    },
    "tags": []
   },
   "source": [
    "## Apply preprocessing on the text data"
   ]
  },
  {
   "cell_type": "code",
   "execution_count": 21,
   "id": "f366ca42",
   "metadata": {
    "execution": {
     "iopub.execute_input": "2024-06-10T14:30:26.571365Z",
     "iopub.status.busy": "2024-06-10T14:30:26.570594Z",
     "iopub.status.idle": "2024-06-10T14:34:00.784197Z",
     "shell.execute_reply": "2024-06-10T14:34:00.783391Z"
    },
    "papermill": {
     "duration": 214.235251,
     "end_time": "2024-06-10T14:34:00.786608",
     "exception": false,
     "start_time": "2024-06-10T14:30:26.551357",
     "status": "completed"
    },
    "tags": []
   },
   "outputs": [],
   "source": [
    "text_data = preprocess_text(df['text'])\n",
    "validation_text_data = preprocess_text(validation_df['text'])"
   ]
  },
  {
   "cell_type": "code",
   "execution_count": 22,
   "id": "0ad1bce6",
   "metadata": {
    "execution": {
     "iopub.execute_input": "2024-06-10T14:34:00.825519Z",
     "iopub.status.busy": "2024-06-10T14:34:00.825233Z",
     "iopub.status.idle": "2024-06-10T14:34:00.831711Z",
     "shell.execute_reply": "2024-06-10T14:34:00.830879Z"
    },
    "papermill": {
     "duration": 0.027939,
     "end_time": "2024-06-10T14:34:00.833625",
     "exception": false,
     "start_time": "2024-06-10T14:34:00.805686",
     "status": "completed"
    },
    "tags": []
   },
   "outputs": [
    {
     "data": {
      "text/plain": [
       "['come border kill',\n",
       " 'im get borderland kill',\n",
       " 'im come borderland murder',\n",
       " 'im get borderland murder',\n",
       " 'im get borderland murder']"
      ]
     },
     "execution_count": 22,
     "metadata": {},
     "output_type": "execute_result"
    }
   ],
   "source": [
    "text_data[:5]"
   ]
  },
  {
   "cell_type": "code",
   "execution_count": 23,
   "id": "defe721a",
   "metadata": {
    "execution": {
     "iopub.execute_input": "2024-06-10T14:34:00.873234Z",
     "iopub.status.busy": "2024-06-10T14:34:00.872926Z",
     "iopub.status.idle": "2024-06-10T14:34:00.878712Z",
     "shell.execute_reply": "2024-06-10T14:34:00.877857Z"
    },
    "papermill": {
     "duration": 0.027399,
     "end_time": "2024-06-10T14:34:00.880721",
     "exception": false,
     "start_time": "2024-06-10T14:34:00.853322",
     "status": "completed"
    },
    "tags": []
   },
   "outputs": [
    {
     "data": {
      "text/plain": [
       "['bbc news amazon boss jeff bezo reject claim compani act like drug dealer bbc co uk news av busin',\n",
       " 'microsoft pay word function poorli samsungu chromebook',\n",
       " 'csgo matchmak full closet hack truli aw game',\n",
       " 'presid slap american face realli commit unlaw act acquitt discov googl vanityfair com news',\n",
       " 'hi eahelp madelein mccann cellar past year littl sneaki thing escap whilst load fifa point took card use paypal account work help resolv pleas']"
      ]
     },
     "execution_count": 23,
     "metadata": {},
     "output_type": "execute_result"
    }
   ],
   "source": [
    "validation_text_data[:5]"
   ]
  },
  {
   "cell_type": "markdown",
   "id": "a78d520b",
   "metadata": {
    "papermill": {
     "duration": 0.018346,
     "end_time": "2024-06-10T14:34:00.917573",
     "exception": false,
     "start_time": "2024-06-10T14:34:00.899227",
     "status": "completed"
    },
    "tags": []
   },
   "source": []
  },
  {
   "cell_type": "markdown",
   "id": "805c50b6",
   "metadata": {
    "papermill": {
     "duration": 0.018356,
     "end_time": "2024-06-10T14:34:00.954676",
     "exception": false,
     "start_time": "2024-06-10T14:34:00.936320",
     "status": "completed"
    },
    "tags": []
   },
   "source": [
    "## Define the vocabulary size randomly which means the number of unique words in the dataset"
   ]
  },
  {
   "cell_type": "code",
   "execution_count": 24,
   "id": "09aca89c",
   "metadata": {
    "execution": {
     "iopub.execute_input": "2024-06-10T14:34:00.992916Z",
     "iopub.status.busy": "2024-06-10T14:34:00.992624Z",
     "iopub.status.idle": "2024-06-10T14:34:00.998048Z",
     "shell.execute_reply": "2024-06-10T14:34:00.997204Z"
    },
    "papermill": {
     "duration": 0.026822,
     "end_time": "2024-06-10T14:34:00.999957",
     "exception": false,
     "start_time": "2024-06-10T14:34:00.973135",
     "status": "completed"
    },
    "tags": []
   },
   "outputs": [
    {
     "data": {
      "text/plain": [
       "5000"
      ]
     },
     "execution_count": 24,
     "metadata": {},
     "output_type": "execute_result"
    }
   ],
   "source": [
    "voc_size = 5000\n",
    "voc_size "
   ]
  },
  {
   "cell_type": "markdown",
   "id": "02d2bcc3",
   "metadata": {
    "papermill": {
     "duration": 0.018436,
     "end_time": "2024-06-10T14:34:01.036916",
     "exception": false,
     "start_time": "2024-06-10T14:34:01.018480",
     "status": "completed"
    },
    "tags": []
   },
   "source": [
    "## Create an pad sequences for the embedding layer"
   ]
  },
  {
   "cell_type": "code",
   "execution_count": 25,
   "id": "036308c4",
   "metadata": {
    "execution": {
     "iopub.execute_input": "2024-06-10T14:34:01.075477Z",
     "iopub.status.busy": "2024-06-10T14:34:01.075212Z",
     "iopub.status.idle": "2024-06-10T14:34:01.102583Z",
     "shell.execute_reply": "2024-06-10T14:34:01.101894Z"
    },
    "papermill": {
     "duration": 0.04864,
     "end_time": "2024-06-10T14:34:01.104455",
     "exception": false,
     "start_time": "2024-06-10T14:34:01.055815",
     "status": "completed"
    },
    "tags": []
   },
   "outputs": [],
   "source": [
    "from tensorflow.keras.preprocessing.sequence import pad_sequences\n",
    "from tensorflow.keras.preprocessing.text import one_hot"
   ]
  },
  {
   "cell_type": "markdown",
   "id": "7aec9e9a",
   "metadata": {
    "papermill": {
     "duration": 0.018342,
     "end_time": "2024-06-10T14:34:01.141678",
     "exception": false,
     "start_time": "2024-06-10T14:34:01.123336",
     "status": "completed"
    },
    "tags": []
   },
   "source": [
    "## One Hot representation of the data with the total no of words in the corpus"
   ]
  },
  {
   "cell_type": "code",
   "execution_count": 26,
   "id": "b2a3fb9f",
   "metadata": {
    "execution": {
     "iopub.execute_input": "2024-06-10T14:34:01.180176Z",
     "iopub.status.busy": "2024-06-10T14:34:01.179860Z",
     "iopub.status.idle": "2024-06-10T14:34:02.308793Z",
     "shell.execute_reply": "2024-06-10T14:34:02.308029Z"
    },
    "papermill": {
     "duration": 1.150528,
     "end_time": "2024-06-10T14:34:02.311091",
     "exception": false,
     "start_time": "2024-06-10T14:34:01.160563",
     "status": "completed"
    },
    "tags": []
   },
   "outputs": [],
   "source": [
    "one_hot_rep = [one_hot(words,voc_size) for words in text_data]\n",
    "one_hot_rep_test = [one_hot(words,voc_size) for words in validation_text_data]"
   ]
  },
  {
   "cell_type": "code",
   "execution_count": 27,
   "id": "85ef3701",
   "metadata": {
    "execution": {
     "iopub.execute_input": "2024-06-10T14:34:02.350407Z",
     "iopub.status.busy": "2024-06-10T14:34:02.350086Z",
     "iopub.status.idle": "2024-06-10T14:34:02.356279Z",
     "shell.execute_reply": "2024-06-10T14:34:02.355409Z"
    },
    "papermill": {
     "duration": 0.028005,
     "end_time": "2024-06-10T14:34:02.358280",
     "exception": false,
     "start_time": "2024-06-10T14:34:02.330275",
     "status": "completed"
    },
    "tags": []
   },
   "outputs": [
    {
     "data": {
      "text/plain": [
       "[[4030, 3566, 4319],\n",
       " [3078, 4819, 2426, 4319],\n",
       " [3078, 4030, 2426, 4311],\n",
       " [3078, 4819, 2426, 4311],\n",
       " [3078, 4819, 2426, 4311]]"
      ]
     },
     "execution_count": 27,
     "metadata": {},
     "output_type": "execute_result"
    }
   ],
   "source": [
    "one_hot_rep[:5]"
   ]
  },
  {
   "cell_type": "code",
   "execution_count": 28,
   "id": "c408dc14",
   "metadata": {
    "execution": {
     "iopub.execute_input": "2024-06-10T14:34:02.397738Z",
     "iopub.status.busy": "2024-06-10T14:34:02.397464Z",
     "iopub.status.idle": "2024-06-10T14:34:02.404491Z",
     "shell.execute_reply": "2024-06-10T14:34:02.403698Z"
    },
    "papermill": {
     "duration": 0.029005,
     "end_time": "2024-06-10T14:34:02.406442",
     "exception": false,
     "start_time": "2024-06-10T14:34:02.377437",
     "status": "completed"
    },
    "tags": []
   },
   "outputs": [
    {
     "data": {
      "text/plain": [
       "[[1762,\n",
       "  2853,\n",
       "  1458,\n",
       "  1308,\n",
       "  4839,\n",
       "  3700,\n",
       "  4505,\n",
       "  240,\n",
       "  2238,\n",
       "  301,\n",
       "  3277,\n",
       "  1907,\n",
       "  2399,\n",
       "  1762,\n",
       "  3100,\n",
       "  822,\n",
       "  2853,\n",
       "  4072,\n",
       "  1828],\n",
       " [1412, 3682, 521, 3372, 1008, 4547, 2036],\n",
       " [3364, 3596, 3987, 75, 2674, 3344, 1330, 2125],\n",
       " [1661,\n",
       "  1132,\n",
       "  1612,\n",
       "  1127,\n",
       "  3671,\n",
       "  3771,\n",
       "  4655,\n",
       "  301,\n",
       "  151,\n",
       "  1322,\n",
       "  188,\n",
       "  4326,\n",
       "  3749,\n",
       "  2853],\n",
       " [1871,\n",
       "  1805,\n",
       "  2550,\n",
       "  2021,\n",
       "  3146,\n",
       "  209,\n",
       "  2047,\n",
       "  4953,\n",
       "  358,\n",
       "  4957,\n",
       "  2384,\n",
       "  561,\n",
       "  499,\n",
       "  3832,\n",
       "  1282,\n",
       "  4444,\n",
       "  2774,\n",
       "  3629,\n",
       "  234,\n",
       "  3129,\n",
       "  3597,\n",
       "  2874,\n",
       "  359,\n",
       "  3265]]"
      ]
     },
     "execution_count": 28,
     "metadata": {},
     "output_type": "execute_result"
    }
   ],
   "source": [
    "one_hot_rep_test[:5]"
   ]
  },
  {
   "cell_type": "markdown",
   "id": "ab1954a0",
   "metadata": {
    "papermill": {
     "duration": 0.018587,
     "end_time": "2024-06-10T14:34:02.443738",
     "exception": false,
     "start_time": "2024-06-10T14:34:02.425151",
     "status": "completed"
    },
    "tags": []
   },
   "source": [
    "# Make these into the padded sequences for the model where we need to and find maximum text in the data make that as sentence length\n",
    "## Make prepadding which is the make the texts into the equal length where put zeros in front of the datas"
   ]
  },
  {
   "cell_type": "code",
   "execution_count": 29,
   "id": "4d39cfe4",
   "metadata": {
    "execution": {
     "iopub.execute_input": "2024-06-10T14:34:02.483039Z",
     "iopub.status.busy": "2024-06-10T14:34:02.482422Z",
     "iopub.status.idle": "2024-06-10T14:34:02.855187Z",
     "shell.execute_reply": "2024-06-10T14:34:02.854378Z"
    },
    "papermill": {
     "duration": 0.394967,
     "end_time": "2024-06-10T14:34:02.857368",
     "exception": false,
     "start_time": "2024-06-10T14:34:02.462401",
     "status": "completed"
    },
    "tags": []
   },
   "outputs": [],
   "source": [
    "sent_length = max([len(i) for i in text_data]) + 2\n",
    "embedded_docs = pad_sequences(one_hot_rep,padding='pre',maxlen=sent_length)\n",
    "embedded_docs_test = pad_sequences(one_hot_rep_test,padding='pre',maxlen=sent_length)"
   ]
  },
  {
   "cell_type": "markdown",
   "id": "a0aa0a8d",
   "metadata": {
    "papermill": {
     "duration": 0.018897,
     "end_time": "2024-06-10T14:34:02.895611",
     "exception": false,
     "start_time": "2024-06-10T14:34:02.876714",
     "status": "completed"
    },
    "tags": []
   },
   "source": [
    "# LSTM RNN\n",
    "## train the model with the lstm rnn to predict the sentiment in the text"
   ]
  },
  {
   "cell_type": "code",
   "execution_count": 30,
   "id": "7002c3f1",
   "metadata": {
    "execution": {
     "iopub.execute_input": "2024-06-10T14:34:02.934604Z",
     "iopub.status.busy": "2024-06-10T14:34:02.934279Z",
     "iopub.status.idle": "2024-06-10T14:34:02.941537Z",
     "shell.execute_reply": "2024-06-10T14:34:02.940642Z"
    },
    "papermill": {
     "duration": 0.029027,
     "end_time": "2024-06-10T14:34:02.943382",
     "exception": false,
     "start_time": "2024-06-10T14:34:02.914355",
     "status": "completed"
    },
    "tags": []
   },
   "outputs": [],
   "source": [
    "from tensorflow.keras.layers import Dense,LSTM,Embedding,Dropout,BatchNormalization\n",
    "from tensorflow.keras.models import Sequential"
   ]
  },
  {
   "cell_type": "code",
   "execution_count": 31,
   "id": "b7829104",
   "metadata": {
    "execution": {
     "iopub.execute_input": "2024-06-10T14:34:02.982130Z",
     "iopub.status.busy": "2024-06-10T14:34:02.981838Z",
     "iopub.status.idle": "2024-06-10T14:34:03.024897Z",
     "shell.execute_reply": "2024-06-10T14:34:03.024027Z"
    },
    "papermill": {
     "duration": 0.064766,
     "end_time": "2024-06-10T14:34:03.027076",
     "exception": false,
     "start_time": "2024-06-10T14:34:02.962310",
     "status": "completed"
    },
    "tags": []
   },
   "outputs": [
    {
     "name": "stderr",
     "output_type": "stream",
     "text": [
      "/opt/conda/lib/python3.10/site-packages/keras/src/layers/core/embedding.py:90: UserWarning: Argument `input_length` is deprecated. Just remove it.\n",
      "  warnings.warn(\n"
     ]
    }
   ],
   "source": [
    "embedding_vector_features = 10\n",
    "model = Sequential([\n",
    "    Embedding(voc_size,embedding_vector_features,input_length=sent_length),\n",
    "    LSTM(1000),\n",
    "    Dropout(0.3),\n",
    "    BatchNormalization(),\n",
    "    Dense(4,activation='softmax')\n",
    "])"
   ]
  },
  {
   "cell_type": "code",
   "execution_count": 32,
   "id": "06693da9",
   "metadata": {
    "execution": {
     "iopub.execute_input": "2024-06-10T14:34:03.066352Z",
     "iopub.status.busy": "2024-06-10T14:34:03.066091Z",
     "iopub.status.idle": "2024-06-10T14:34:03.086226Z",
     "shell.execute_reply": "2024-06-10T14:34:03.085264Z"
    },
    "papermill": {
     "duration": 0.04234,
     "end_time": "2024-06-10T14:34:03.088425",
     "exception": false,
     "start_time": "2024-06-10T14:34:03.046085",
     "status": "completed"
    },
    "tags": []
   },
   "outputs": [],
   "source": [
    "model.compile(optimizer = 'adam',metrics=['accuracy'],loss='sparse_categorical_crossentropy')"
   ]
  },
  {
   "cell_type": "markdown",
   "id": "2c861709",
   "metadata": {
    "papermill": {
     "duration": 0.01879,
     "end_time": "2024-06-10T14:34:03.126853",
     "exception": false,
     "start_time": "2024-06-10T14:34:03.108063",
     "status": "completed"
    },
    "tags": []
   },
   "source": [
    "## Summarize the model"
   ]
  },
  {
   "cell_type": "code",
   "execution_count": 33,
   "id": "577ae780",
   "metadata": {
    "execution": {
     "iopub.execute_input": "2024-06-10T14:34:03.166402Z",
     "iopub.status.busy": "2024-06-10T14:34:03.165690Z",
     "iopub.status.idle": "2024-06-10T14:34:03.183295Z",
     "shell.execute_reply": "2024-06-10T14:34:03.182390Z"
    },
    "papermill": {
     "duration": 0.039456,
     "end_time": "2024-06-10T14:34:03.185153",
     "exception": false,
     "start_time": "2024-06-10T14:34:03.145697",
     "status": "completed"
    },
    "tags": []
   },
   "outputs": [
    {
     "data": {
      "text/html": [
       "<pre style=\"white-space:pre;overflow-x:auto;line-height:normal;font-family:Menlo,'DejaVu Sans Mono',consolas,'Courier New',monospace\"><span style=\"font-weight: bold\">Model: \"sequential\"</span>\n",
       "</pre>\n"
      ],
      "text/plain": [
       "\u001b[1mModel: \"sequential\"\u001b[0m\n"
      ]
     },
     "metadata": {},
     "output_type": "display_data"
    },
    {
     "data": {
      "text/html": [
       "<pre style=\"white-space:pre;overflow-x:auto;line-height:normal;font-family:Menlo,'DejaVu Sans Mono',consolas,'Courier New',monospace\">┏━━━━━━━━━━━━━━━━━━━━━━━━━━━━━━━━━┳━━━━━━━━━━━━━━━━━━━━━━━━┳━━━━━━━━━━━━━━━┓\n",
       "┃<span style=\"font-weight: bold\"> Layer (type)                    </span>┃<span style=\"font-weight: bold\"> Output Shape           </span>┃<span style=\"font-weight: bold\">       Param # </span>┃\n",
       "┡━━━━━━━━━━━━━━━━━━━━━━━━━━━━━━━━━╇━━━━━━━━━━━━━━━━━━━━━━━━╇━━━━━━━━━━━━━━━┩\n",
       "│ embedding (<span style=\"color: #0087ff; text-decoration-color: #0087ff\">Embedding</span>)           │ ?                      │   <span style=\"color: #00af00; text-decoration-color: #00af00\">0</span> (unbuilt) │\n",
       "├─────────────────────────────────┼────────────────────────┼───────────────┤\n",
       "│ lstm (<span style=\"color: #0087ff; text-decoration-color: #0087ff\">LSTM</span>)                     │ ?                      │   <span style=\"color: #00af00; text-decoration-color: #00af00\">0</span> (unbuilt) │\n",
       "├─────────────────────────────────┼────────────────────────┼───────────────┤\n",
       "│ dropout (<span style=\"color: #0087ff; text-decoration-color: #0087ff\">Dropout</span>)               │ ?                      │   <span style=\"color: #00af00; text-decoration-color: #00af00\">0</span> (unbuilt) │\n",
       "├─────────────────────────────────┼────────────────────────┼───────────────┤\n",
       "│ batch_normalization             │ ?                      │   <span style=\"color: #00af00; text-decoration-color: #00af00\">0</span> (unbuilt) │\n",
       "│ (<span style=\"color: #0087ff; text-decoration-color: #0087ff\">BatchNormalization</span>)            │                        │               │\n",
       "├─────────────────────────────────┼────────────────────────┼───────────────┤\n",
       "│ dense (<span style=\"color: #0087ff; text-decoration-color: #0087ff\">Dense</span>)                   │ ?                      │   <span style=\"color: #00af00; text-decoration-color: #00af00\">0</span> (unbuilt) │\n",
       "└─────────────────────────────────┴────────────────────────┴───────────────┘\n",
       "</pre>\n"
      ],
      "text/plain": [
       "┏━━━━━━━━━━━━━━━━━━━━━━━━━━━━━━━━━┳━━━━━━━━━━━━━━━━━━━━━━━━┳━━━━━━━━━━━━━━━┓\n",
       "┃\u001b[1m \u001b[0m\u001b[1mLayer (type)                   \u001b[0m\u001b[1m \u001b[0m┃\u001b[1m \u001b[0m\u001b[1mOutput Shape          \u001b[0m\u001b[1m \u001b[0m┃\u001b[1m \u001b[0m\u001b[1m      Param #\u001b[0m\u001b[1m \u001b[0m┃\n",
       "┡━━━━━━━━━━━━━━━━━━━━━━━━━━━━━━━━━╇━━━━━━━━━━━━━━━━━━━━━━━━╇━━━━━━━━━━━━━━━┩\n",
       "│ embedding (\u001b[38;5;33mEmbedding\u001b[0m)           │ ?                      │   \u001b[38;5;34m0\u001b[0m (unbuilt) │\n",
       "├─────────────────────────────────┼────────────────────────┼───────────────┤\n",
       "│ lstm (\u001b[38;5;33mLSTM\u001b[0m)                     │ ?                      │   \u001b[38;5;34m0\u001b[0m (unbuilt) │\n",
       "├─────────────────────────────────┼────────────────────────┼───────────────┤\n",
       "│ dropout (\u001b[38;5;33mDropout\u001b[0m)               │ ?                      │   \u001b[38;5;34m0\u001b[0m (unbuilt) │\n",
       "├─────────────────────────────────┼────────────────────────┼───────────────┤\n",
       "│ batch_normalization             │ ?                      │   \u001b[38;5;34m0\u001b[0m (unbuilt) │\n",
       "│ (\u001b[38;5;33mBatchNormalization\u001b[0m)            │                        │               │\n",
       "├─────────────────────────────────┼────────────────────────┼───────────────┤\n",
       "│ dense (\u001b[38;5;33mDense\u001b[0m)                   │ ?                      │   \u001b[38;5;34m0\u001b[0m (unbuilt) │\n",
       "└─────────────────────────────────┴────────────────────────┴───────────────┘\n"
      ]
     },
     "metadata": {},
     "output_type": "display_data"
    },
    {
     "data": {
      "text/html": [
       "<pre style=\"white-space:pre;overflow-x:auto;line-height:normal;font-family:Menlo,'DejaVu Sans Mono',consolas,'Courier New',monospace\"><span style=\"font-weight: bold\"> Total params: </span><span style=\"color: #00af00; text-decoration-color: #00af00\">0</span> (0.00 B)\n",
       "</pre>\n"
      ],
      "text/plain": [
       "\u001b[1m Total params: \u001b[0m\u001b[38;5;34m0\u001b[0m (0.00 B)\n"
      ]
     },
     "metadata": {},
     "output_type": "display_data"
    },
    {
     "data": {
      "text/html": [
       "<pre style=\"white-space:pre;overflow-x:auto;line-height:normal;font-family:Menlo,'DejaVu Sans Mono',consolas,'Courier New',monospace\"><span style=\"font-weight: bold\"> Trainable params: </span><span style=\"color: #00af00; text-decoration-color: #00af00\">0</span> (0.00 B)\n",
       "</pre>\n"
      ],
      "text/plain": [
       "\u001b[1m Trainable params: \u001b[0m\u001b[38;5;34m0\u001b[0m (0.00 B)\n"
      ]
     },
     "metadata": {},
     "output_type": "display_data"
    },
    {
     "data": {
      "text/html": [
       "<pre style=\"white-space:pre;overflow-x:auto;line-height:normal;font-family:Menlo,'DejaVu Sans Mono',consolas,'Courier New',monospace\"><span style=\"font-weight: bold\"> Non-trainable params: </span><span style=\"color: #00af00; text-decoration-color: #00af00\">0</span> (0.00 B)\n",
       "</pre>\n"
      ],
      "text/plain": [
       "\u001b[1m Non-trainable params: \u001b[0m\u001b[38;5;34m0\u001b[0m (0.00 B)\n"
      ]
     },
     "metadata": {},
     "output_type": "display_data"
    }
   ],
   "source": [
    "model.summary()"
   ]
  },
  {
   "cell_type": "markdown",
   "id": "d7e0c21c",
   "metadata": {
    "papermill": {
     "duration": 0.019669,
     "end_time": "2024-06-10T14:34:03.224913",
     "exception": false,
     "start_time": "2024-06-10T14:34:03.205244",
     "status": "completed"
    },
    "tags": []
   },
   "source": [
    "## Datas for training and testing"
   ]
  },
  {
   "cell_type": "code",
   "execution_count": 34,
   "id": "2b0b348a",
   "metadata": {
    "execution": {
     "iopub.execute_input": "2024-06-10T14:34:03.265970Z",
     "iopub.status.busy": "2024-06-10T14:34:03.265149Z",
     "iopub.status.idle": "2024-06-10T14:34:03.269227Z",
     "shell.execute_reply": "2024-06-10T14:34:03.268359Z"
    },
    "papermill": {
     "duration": 0.026528,
     "end_time": "2024-06-10T14:34:03.271094",
     "exception": false,
     "start_time": "2024-06-10T14:34:03.244566",
     "status": "completed"
    },
    "tags": []
   },
   "outputs": [],
   "source": [
    "X = embedded_docs\n",
    "X_test = embedded_docs_test"
   ]
  },
  {
   "cell_type": "markdown",
   "id": "bbc0cc1b",
   "metadata": {
    "papermill": {
     "duration": 0.019551,
     "end_time": "2024-06-10T14:34:03.310341",
     "exception": false,
     "start_time": "2024-06-10T14:34:03.290790",
     "status": "completed"
    },
    "tags": []
   },
   "source": [
    "## Convert the Sentiments into the labels which will be numbers "
   ]
  },
  {
   "cell_type": "code",
   "execution_count": 35,
   "id": "bfc27abe",
   "metadata": {
    "execution": {
     "iopub.execute_input": "2024-06-10T14:34:03.352020Z",
     "iopub.status.busy": "2024-06-10T14:34:03.351307Z",
     "iopub.status.idle": "2024-06-10T14:34:03.374636Z",
     "shell.execute_reply": "2024-06-10T14:34:03.373757Z"
    },
    "papermill": {
     "duration": 0.046218,
     "end_time": "2024-06-10T14:34:03.376564",
     "exception": false,
     "start_time": "2024-06-10T14:34:03.330346",
     "status": "completed"
    },
    "tags": []
   },
   "outputs": [],
   "source": [
    "label_encoder = LabelEncoder()\n",
    "y = label_encoder.fit_transform(df['sentiment'])\n",
    "y_test = label_encoder.transform(validation_df['sentiment'])"
   ]
  },
  {
   "cell_type": "code",
   "execution_count": 36,
   "id": "9dd00f9c",
   "metadata": {
    "execution": {
     "iopub.execute_input": "2024-06-10T14:34:03.417989Z",
     "iopub.status.busy": "2024-06-10T14:34:03.417651Z",
     "iopub.status.idle": "2024-06-10T14:34:03.422406Z",
     "shell.execute_reply": "2024-06-10T14:34:03.421548Z"
    },
    "papermill": {
     "duration": 0.028141,
     "end_time": "2024-06-10T14:34:03.424593",
     "exception": false,
     "start_time": "2024-06-10T14:34:03.396452",
     "status": "completed"
    },
    "tags": []
   },
   "outputs": [
    {
     "name": "stdout",
     "output_type": "stream",
     "text": [
      "Classes of the models : ['Irrelevant' 'Negative' 'Neutral' 'Positive']\n"
     ]
    }
   ],
   "source": [
    "classes = label_encoder.classes_\n",
    "print(\"Classes of the models :\",classes)"
   ]
  },
  {
   "cell_type": "markdown",
   "id": "9f5a70b5",
   "metadata": {
    "papermill": {
     "duration": 0.020444,
     "end_time": "2024-06-10T14:34:03.465152",
     "exception": false,
     "start_time": "2024-06-10T14:34:03.444708",
     "status": "completed"
    },
    "tags": []
   },
   "source": [
    "## Train the model with the test data as 0.5 where we made the batch size as 32 and 2 epochs will be happened"
   ]
  },
  {
   "cell_type": "code",
   "execution_count": 37,
   "id": "865d37f3",
   "metadata": {
    "execution": {
     "iopub.execute_input": "2024-06-10T14:34:03.508172Z",
     "iopub.status.busy": "2024-06-10T14:34:03.507557Z",
     "iopub.status.idle": "2024-06-10T14:43:15.412931Z",
     "shell.execute_reply": "2024-06-10T14:43:15.412029Z"
    },
    "papermill": {
     "duration": 552.114553,
     "end_time": "2024-06-10T14:43:15.600467",
     "exception": false,
     "start_time": "2024-06-10T14:34:03.485914",
     "status": "completed"
    },
    "tags": []
   },
   "outputs": [
    {
     "name": "stdout",
     "output_type": "stream",
     "text": [
      "Epoch 1/2\n",
      "\u001b[1m1157/1157\u001b[0m \u001b[32m━━━━━━━━━━━━━━━━━━━━\u001b[0m\u001b[37m\u001b[0m \u001b[1m279s\u001b[0m 235ms/step - accuracy: 0.2981 - loss: 1.5344 - val_accuracy: 0.3902 - val_loss: 1.4489\n",
      "Epoch 2/2\n",
      "\u001b[1m1157/1157\u001b[0m \u001b[32m━━━━━━━━━━━━━━━━━━━━\u001b[0m\u001b[37m\u001b[0m \u001b[1m273s\u001b[0m 236ms/step - accuracy: 0.5984 - loss: 0.9951 - val_accuracy: 0.3723 - val_loss: 2.7682\n"
     ]
    },
    {
     "data": {
      "text/plain": [
       "<keras.src.callbacks.history.History at 0x7c50d51f27d0>"
      ]
     },
     "execution_count": 37,
     "metadata": {},
     "output_type": "execute_result"
    }
   ],
   "source": [
    "model.fit(X,y,validation_split=0.5,epochs=2,batch_size=32)"
   ]
  },
  {
   "cell_type": "markdown",
   "id": "9df36ca9",
   "metadata": {
    "papermill": {
     "duration": 0.203178,
     "end_time": "2024-06-10T14:43:16.004112",
     "exception": false,
     "start_time": "2024-06-10T14:43:15.800934",
     "status": "completed"
    },
    "tags": []
   },
   "source": [
    "## Find the accuracy score of the model and how it make predictions on test data"
   ]
  },
  {
   "cell_type": "code",
   "execution_count": 38,
   "id": "85fed1bd",
   "metadata": {
    "execution": {
     "iopub.execute_input": "2024-06-10T14:43:16.455791Z",
     "iopub.status.busy": "2024-06-10T14:43:16.455413Z",
     "iopub.status.idle": "2024-06-10T14:43:16.459932Z",
     "shell.execute_reply": "2024-06-10T14:43:16.459031Z"
    },
    "papermill": {
     "duration": 0.256326,
     "end_time": "2024-06-10T14:43:16.461832",
     "exception": false,
     "start_time": "2024-06-10T14:43:16.205506",
     "status": "completed"
    },
    "tags": []
   },
   "outputs": [],
   "source": [
    "from sklearn.metrics import accuracy_score,confusion_matrix"
   ]
  },
  {
   "cell_type": "markdown",
   "id": "e67579a5",
   "metadata": {
    "papermill": {
     "duration": 0.20391,
     "end_time": "2024-06-10T14:43:16.869268",
     "exception": false,
     "start_time": "2024-06-10T14:43:16.665358",
     "status": "completed"
    },
    "tags": []
   },
   "source": [
    "## Print the accuracy Score of the test model"
   ]
  },
  {
   "cell_type": "code",
   "execution_count": 39,
   "id": "f4e0abbd",
   "metadata": {
    "execution": {
     "iopub.execute_input": "2024-06-10T14:43:17.275363Z",
     "iopub.status.busy": "2024-06-10T14:43:17.274504Z",
     "iopub.status.idle": "2024-06-10T14:43:19.640601Z",
     "shell.execute_reply": "2024-06-10T14:43:19.639690Z"
    },
    "papermill": {
     "duration": 2.571248,
     "end_time": "2024-06-10T14:43:19.642435",
     "exception": false,
     "start_time": "2024-06-10T14:43:17.071187",
     "status": "completed"
    },
    "tags": []
   },
   "outputs": [
    {
     "name": "stdout",
     "output_type": "stream",
     "text": [
      "\u001b[1m32/32\u001b[0m \u001b[32m━━━━━━━━━━━━━━━━━━━━\u001b[0m\u001b[37m\u001b[0m \u001b[1m2s\u001b[0m 68ms/step\n",
      "acuracy of the model is : 40.34%\n"
     ]
    }
   ],
   "source": [
    "layers = model.predict(X_test)\n",
    "predictions_values = np.argmax(layers,axis=1)\n",
    "predicted_data = label_encoder.inverse_transform(predictions_values)\n",
    "print(f\"acuracy of the model is : {accuracy_score(y_test,predictions_values)*100:.2f}%\")"
   ]
  },
  {
   "cell_type": "code",
   "execution_count": 40,
   "id": "42d74807",
   "metadata": {
    "execution": {
     "iopub.execute_input": "2024-06-10T14:43:20.053279Z",
     "iopub.status.busy": "2024-06-10T14:43:20.052558Z",
     "iopub.status.idle": "2024-06-10T14:43:20.063109Z",
     "shell.execute_reply": "2024-06-10T14:43:20.062165Z"
    },
    "papermill": {
     "duration": 0.218207,
     "end_time": "2024-06-10T14:43:20.065027",
     "exception": false,
     "start_time": "2024-06-10T14:43:19.846820",
     "status": "completed"
    },
    "tags": []
   },
   "outputs": [
    {
     "name": "stdout",
     "output_type": "stream",
     "text": [
      "Confusion Matrix:  [[  5 129  37   0]\n",
      " [  0 234  32   0]\n",
      " [  0 124 161   0]\n",
      " [  3 227  44   3]]\n",
      "            Irrelevant  Negative  Neutral  Positive\n",
      "Irrelevant           5       129       37         0\n",
      "Negative             0       234       32         0\n",
      "Neutral              0       124      161         0\n",
      "Positive             3       227       44         3\n"
     ]
    }
   ],
   "source": [
    "print(\"Confusion Matrix: \",confusion_matrix(y_test,predictions_values))\n",
    "dfs = pd.DataFrame(confusion_matrix(y_test,predictions_values),columns=classes,index=classes)\n",
    "print(dfs.head())"
   ]
  },
  {
   "cell_type": "code",
   "execution_count": 41,
   "id": "fa2e65a7",
   "metadata": {
    "execution": {
     "iopub.execute_input": "2024-06-10T14:43:20.476223Z",
     "iopub.status.busy": "2024-06-10T14:43:20.475375Z",
     "iopub.status.idle": "2024-06-10T14:43:20.479689Z",
     "shell.execute_reply": "2024-06-10T14:43:20.478839Z"
    },
    "papermill": {
     "duration": 0.21262,
     "end_time": "2024-06-10T14:43:20.481538",
     "exception": false,
     "start_time": "2024-06-10T14:43:20.268918",
     "status": "completed"
    },
    "tags": []
   },
   "outputs": [],
   "source": [
    "import matplotlib.pyplot as plt\n",
    "import seaborn as sns"
   ]
  },
  {
   "cell_type": "code",
   "execution_count": 42,
   "id": "afb91483",
   "metadata": {
    "execution": {
     "iopub.execute_input": "2024-06-10T14:43:20.897814Z",
     "iopub.status.busy": "2024-06-10T14:43:20.896995Z",
     "iopub.status.idle": "2024-06-10T14:43:21.196367Z",
     "shell.execute_reply": "2024-06-10T14:43:21.195288Z"
    },
    "papermill": {
     "duration": 0.510568,
     "end_time": "2024-06-10T14:43:21.198436",
     "exception": false,
     "start_time": "2024-06-10T14:43:20.687868",
     "status": "completed"
    },
    "tags": []
   },
   "outputs": [
    {
     "data": {
      "image/png": "[encoded data removed]",
      "text/plain": [
       "<Figure size 640x480 with 2 Axes>"
      ]
     },
     "metadata": {},
     "output_type": "display_data"
    }
   ],
   "source": [
    "sns.heatmap(dfs,annot=True,fmt=\".2f\")\n",
    "plt.title(\"Confusion Matrix\")\n",
    "plt.show()"
   ]
  },
  {
   "cell_type": "markdown",
   "id": "1440743f",
   "metadata": {
    "papermill": {
     "duration": 0.205918,
     "end_time": "2024-06-10T14:43:21.611108",
     "exception": false,
     "start_time": "2024-06-10T14:43:21.405190",
     "status": "completed"
    },
    "tags": []
   },
   "source": [
    "## Sample datas and make predictions how our model predict it"
   ]
  },
  {
   "cell_type": "code",
   "execution_count": 43,
   "id": "0f829ad0",
   "metadata": {
    "execution": {
     "iopub.execute_input": "2024-06-10T14:43:22.066365Z",
     "iopub.status.busy": "2024-06-10T14:43:22.065441Z",
     "iopub.status.idle": "2024-06-10T14:43:22.082758Z",
     "shell.execute_reply": "2024-06-10T14:43:22.081881Z"
    },
    "papermill": {
     "duration": 0.2254,
     "end_time": "2024-06-10T14:43:22.084594",
     "exception": false,
     "start_time": "2024-06-10T14:43:21.859194",
     "status": "completed"
    },
    "tags": []
   },
   "outputs": [
    {
     "name": "stdout",
     "output_type": "stream",
     "text": [
      "['hii sathish excit share experi journey life', 'love world', 'readi face challeng', 'mean life chang', 'yo need life', 'made sentiment along axi', 'sentiment provid dataset']\n"
     ]
    }
   ],
   "source": [
    "text = [\"Hii I am Sathish I am excited to share my experience my journey of my life!\",\"I Love this world\",'I am ready to face the challenges','meaning of life has been changed','What do yo need in your life',\"made a sentiment along the axis \",\"What sentiment has been provided with the dataset?\"]\n",
    "text_data = preprocess_text(text)\n",
    "print(text_data)"
   ]
  },
  {
   "cell_type": "markdown",
   "id": "16f841f7",
   "metadata": {
    "papermill": {
     "duration": 0.205795,
     "end_time": "2024-06-10T14:43:22.493249",
     "exception": false,
     "start_time": "2024-06-10T14:43:22.287454",
     "status": "completed"
    },
    "tags": []
   },
   "source": [
    "## provide one hot representation of datas"
   ]
  },
  {
   "cell_type": "code",
   "execution_count": 44,
   "id": "4d9d2c75",
   "metadata": {
    "execution": {
     "iopub.execute_input": "2024-06-10T14:43:22.908216Z",
     "iopub.status.busy": "2024-06-10T14:43:22.907617Z",
     "iopub.status.idle": "2024-06-10T14:43:22.913032Z",
     "shell.execute_reply": "2024-06-10T14:43:22.912206Z"
    },
    "papermill": {
     "duration": 0.216564,
     "end_time": "2024-06-10T14:43:22.914942",
     "exception": false,
     "start_time": "2024-06-10T14:43:22.698378",
     "status": "completed"
    },
    "tags": []
   },
   "outputs": [
    {
     "name": "stdout",
     "output_type": "stream",
     "text": [
      "[[4350, 1573, 930, 560, 2025, 3861, 2031], [3941, 2245], [3026, 1127, 1778], [1243, 2031, 1735], [56, 2725, 2031], [4832, 4842, 1447, 2065], [4842, 3897, 3103]]\n"
     ]
    }
   ],
   "source": [
    "one_hot_rep_new_data = [one_hot(words,voc_size) for words in text_data]\n",
    "print(one_hot_rep_new_data)"
   ]
  },
  {
   "cell_type": "code",
   "execution_count": 45,
   "id": "7e2ab467",
   "metadata": {
    "execution": {
     "iopub.execute_input": "2024-06-10T14:43:23.325209Z",
     "iopub.status.busy": "2024-06-10T14:43:23.324149Z",
     "iopub.status.idle": "2024-06-10T14:43:23.330326Z",
     "shell.execute_reply": "2024-06-10T14:43:23.329269Z"
    },
    "papermill": {
     "duration": 0.213077,
     "end_time": "2024-06-10T14:43:23.332246",
     "exception": false,
     "start_time": "2024-06-10T14:43:23.119169",
     "status": "completed"
    },
    "tags": []
   },
   "outputs": [
    {
     "name": "stdout",
     "output_type": "stream",
     "text": [
      "[[   0    0    0 ... 2025 3861 2031]\n",
      " [   0    0    0 ...    0 3941 2245]\n",
      " [   0    0    0 ... 3026 1127 1778]\n",
      " ...\n",
      " [   0    0    0 ...   56 2725 2031]\n",
      " [   0    0    0 ... 4842 1447 2065]\n",
      " [   0    0    0 ... 4842 3897 3103]]\n"
     ]
    }
   ],
   "source": [
    "embed_new_text_data = pad_sequences(one_hot_rep_new_data,padding='pre',maxlen=sent_length)\n",
    "print(embed_new_text_data)"
   ]
  },
  {
   "cell_type": "markdown",
   "id": "848df278",
   "metadata": {
    "papermill": {
     "duration": 0.204005,
     "end_time": "2024-06-10T14:43:23.743559",
     "exception": false,
     "start_time": "2024-06-10T14:43:23.539554",
     "status": "completed"
    },
    "tags": []
   },
   "source": [
    "## make predictions using the trained model and show how does it predicts for the new model"
   ]
  },
  {
   "cell_type": "code",
   "execution_count": 46,
   "id": "6bc9ef9e",
   "metadata": {
    "execution": {
     "iopub.execute_input": "2024-06-10T14:43:24.155098Z",
     "iopub.status.busy": "2024-06-10T14:43:24.154383Z",
     "iopub.status.idle": "2024-06-10T14:43:24.269569Z",
     "shell.execute_reply": "2024-06-10T14:43:24.268674Z"
    },
    "papermill": {
     "duration": 0.322621,
     "end_time": "2024-06-10T14:43:24.271497",
     "exception": false,
     "start_time": "2024-06-10T14:43:23.948876",
     "status": "completed"
    },
    "tags": []
   },
   "outputs": [
    {
     "name": "stdout",
     "output_type": "stream",
     "text": [
      "\u001b[1m1/1\u001b[0m \u001b[32m━━━━━━━━━━━━━━━━━━━━\u001b[0m\u001b[37m\u001b[0m \u001b[1m0s\u001b[0m 36ms/step\n",
      "Predictions labels : [0 1 1 1 1 1 1]\n",
      "Predicted sentiment : ['Irrelevant' 'Negative' 'Negative' 'Negative' 'Negative' 'Negative'\n",
      " 'Negative']\n"
     ]
    }
   ],
   "source": [
    "layers = model.predict(embed_new_text_data)\n",
    "predictions_values = np.argmax(layers,axis=1)\n",
    "predicted_data = label_encoder.inverse_transform(predictions_values)\n",
    "print(\"Predictions labels :\",predictions_values)\n",
    "print(\"Predicted sentiment :\",predicted_data)"
   ]
  },
  {
   "cell_type": "code",
   "execution_count": 47,
   "id": "1bdba8d4",
   "metadata": {
    "execution": {
     "iopub.execute_input": "2024-06-10T14:43:24.731292Z",
     "iopub.status.busy": "2024-06-10T14:43:24.730348Z",
     "iopub.status.idle": "2024-06-10T14:43:24.736192Z",
     "shell.execute_reply": "2024-06-10T14:43:24.735313Z"
    },
    "papermill": {
     "duration": 0.257758,
     "end_time": "2024-06-10T14:43:24.738022",
     "exception": false,
     "start_time": "2024-06-10T14:43:24.480264",
     "status": "completed"
    },
    "tags": []
   },
   "outputs": [],
   "source": [
    "dff = pd.DataFrame(text_data,columns=['text'])\n",
    "dff['Sentiment'] = predicted_data"
   ]
  },
  {
   "cell_type": "code",
   "execution_count": 48,
   "id": "c5f4a738",
   "metadata": {
    "execution": {
     "iopub.execute_input": "2024-06-10T14:43:25.160945Z",
     "iopub.status.busy": "2024-06-10T14:43:25.160176Z",
     "iopub.status.idle": "2024-06-10T14:43:25.172308Z",
     "shell.execute_reply": "2024-06-10T14:43:25.171097Z"
    },
    "papermill": {
     "duration": 0.229685,
     "end_time": "2024-06-10T14:43:25.175174",
     "exception": false,
     "start_time": "2024-06-10T14:43:24.945489",
     "status": "completed"
    },
    "tags": []
   },
   "outputs": [
    {
     "data": {
      "text/html": [
       "<div>\n",
       "<style scoped>\n",
       "    .dataframe tbody tr th:only-of-type {\n",
       "        vertical-align: middle;\n",
       "    }\n",
       "\n",
       "    .dataframe tbody tr th {\n",
       "        vertical-align: top;\n",
       "    }\n",
       "\n",
       "    .dataframe thead th {\n",
       "        text-align: right;\n",
       "    }\n",
       "</style>\n",
       "<table border=\"1\" class=\"dataframe\">\n",
       "  <thead>\n",
       "    <tr style=\"text-align: right;\">\n",
       "      <th></th>\n",
       "      <th>text</th>\n",
       "      <th>Sentiment</th>\n",
       "    </tr>\n",
       "  </thead>\n",
       "  <tbody>\n",
       "    <tr>\n",
       "      <th>0</th>\n",
       "      <td>hii sathish excit share experi journey life</td>\n",
       "      <td>Irrelevant</td>\n",
       "    </tr>\n",
       "    <tr>\n",
       "      <th>1</th>\n",
       "      <td>love world</td>\n",
       "      <td>Negative</td>\n",
       "    </tr>\n",
       "    <tr>\n",
       "      <th>2</th>\n",
       "      <td>readi face challeng</td>\n",
       "      <td>Negative</td>\n",
       "    </tr>\n",
       "    <tr>\n",
       "      <th>3</th>\n",
       "      <td>mean life chang</td>\n",
       "      <td>Negative</td>\n",
       "    </tr>\n",
       "    <tr>\n",
       "      <th>4</th>\n",
       "      <td>yo need life</td>\n",
       "      <td>Negative</td>\n",
       "    </tr>\n",
       "  </tbody>\n",
       "</table>\n",
       "</div>"
      ],
      "text/plain": [
       "                                          text   Sentiment\n",
       "0  hii sathish excit share experi journey life  Irrelevant\n",
       "1                                   love world    Negative\n",
       "2                          readi face challeng    Negative\n",
       "3                              mean life chang    Negative\n",
       "4                                 yo need life    Negative"
      ]
     },
     "execution_count": 48,
     "metadata": {},
     "output_type": "execute_result"
    }
   ],
   "source": [
    "dff.head()"
   ]
  },
  {
   "cell_type": "code",
   "execution_count": null,
   "id": "40655ef2",
   "metadata": {
    "papermill": {
     "duration": 0.207126,
     "end_time": "2024-06-10T14:43:25.599619",
     "exception": false,
     "start_time": "2024-06-10T14:43:25.392493",
     "status": "completed"
    },
    "tags": []
   },
   "outputs": [],
   "source": []
  }
 ],
 "metadata": {
  "kaggle": {
   "accelerator": "gpu",
   "dataSources": [
    {
     "datasetId": 1520310,
     "sourceId": 2510329,
     "sourceType": "datasetVersion"
    }
   ],
   "dockerImageVersionId": 30715,
   "isGpuEnabled": true,
   "isInternetEnabled": true,
   "language": "python",
   "sourceType": "notebook"
  },
  "kernelspec": {
   "display_name": "Python 3",
   "language": "python",
   "name": "python3"
  },
  "language_info": {
   "codemirror_mode": {
    "name": "ipython",
    "version": 3
   },
   "file_extension": ".py",
   "mimetype": "text/x-python",
   "name": "python",
   "nbconvert_exporter": "python",
   "pygments_lexer": "ipython3",
   "version": "3.10.13"
  },
  "papermill": {
   "default_parameters": {},
   "duration": 800.6462,
   "end_time": "2024-06-10T14:43:28.449972",
   "environment_variables": {},
   "exception": null,
   "input_path": "__notebook__.ipynb",
   "output_path": "__notebook__.ipynb",
   "parameters": {},
   "start_time": "2024-06-10T14:30:07.803772",
   "version": "2.5.0"
  }
 },
 "nbformat": 4,
 "nbformat_minor": 5
}
